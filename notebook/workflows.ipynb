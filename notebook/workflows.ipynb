{
 "cells": [
  {
   "cell_type": "markdown",
   "id": "90306d2e-9308-471a-903a-99da50af2ac5",
   "metadata": {},
   "source": [
    "# Attribution Measurement Workflows"
   ]
  },
  {
   "cell_type": "markdown",
   "id": "5d9e5877-1a0a-4f0a-b7c0-84ce4f792224",
   "metadata": {},
   "source": [
    "This notebook contains three digital advertising campaign attribution measurement workflows informed by the [Attribution Data Matching Protocol (ADMaP) specification](https://iabtechlab.com/admap/)."
   ]
  },
  {
   "cell_type": "markdown",
   "id": "8473a44c-3b30-424b-8f19-55a4693d5cd7",
   "metadata": {},
   "source": [
    "**_The current version of this document specifies the plaintext versions of the workflows. These serve as a reference for ongoing work to integrate the corresponding PET into each workflow._**"
   ]
  },
  {
   "cell_type": "markdown",
   "id": "9ea37909-a645-408e-a505-b9552dafc53e",
   "metadata": {},
   "source": [
    "## Common Dependencies"
   ]
  },
  {
   "cell_type": "code",
   "execution_count": 73,
   "id": "74eeb967-e902-4bbd-949a-042d5825b71c",
   "metadata": {},
   "outputs": [],
   "source": [
    "import random\n",
    "import uuid\n",
    "import faker"
   ]
  },
  {
   "cell_type": "markdown",
   "id": "6ca4edaf-0321-4729-abea-e36ca8367b84",
   "metadata": {},
   "source": [
    "## Example ADMaP-Compatible Data"
   ]
  },
  {
   "cell_type": "markdown",
   "id": "7ac42269-1b7f-4705-86ad-5ffa634d6f85",
   "metadata": {},
   "source": [
    "A common space of keys (emails) is generated below and used for generating simulated data within different data sets."
   ]
  },
  {
   "cell_type": "code",
   "execution_count": 117,
   "id": "8fdbe21b-eb58-4057-abcf-787bd057462a",
   "metadata": {},
   "outputs": [],
   "source": [
    "random.seed(123)\n",
    "faker.Faker.seed(123)\n",
    "fake = faker.Faker()\n",
    "emails = [fake.email() for _ in range(15)]"
   ]
  },
  {
   "cell_type": "markdown",
   "id": "5bde8c54-f1ee-4537-b02b-0fd6b9d88b7a",
   "metadata": {},
   "source": [
    "### Publisher Engagement Events"
   ]
  },
  {
   "cell_type": "code",
   "execution_count": 118,
   "id": "fe53f4bc-9ed5-4d04-863a-8c16c165dd6c",
   "metadata": {},
   "outputs": [
    {
     "data": {
      "text/plain": [
       "[[1, 'adamskayla@example.com', 'click', 'B', 'NA', '18-24'],\n",
       " [1, 'mayala@example.com', 'click', 'B', 'EMEA', '45+'],\n",
       " [1, 'robersonnancy@example.com', 'click', 'A', 'NA', '25-44'],\n",
       " [1, 'davisdouglas@example.org', 'click', 'C', 'APAC', '18-24'],\n",
       " [1, 'mcintyredominique@example.org', 'click', 'B', 'APAC', '18-24'],\n",
       " [1, 'boonedebbie@example.net', 'click', 'A', 'LATAM', '18-24'],\n",
       " [1, 'matthew61@example.net', 'click', 'B', 'APAC', '45+'],\n",
       " [1, 'ameyer@example.com', 'click', 'B', 'APAC', '18-24'],\n",
       " [1, 'alexander86@example.net', 'click', 'B', 'APAC', '18-24'],\n",
       " [1, 'rhonda97@example.com', 'click', 'A', 'APAC', '45+']]"
      ]
     },
     "execution_count": 118,
     "metadata": {},
     "output_type": "execute_result"
    }
   ],
   "source": [
    "es = random.sample(emails, 10)\n",
    "campaigns = ['A', 'B', 'C']\n",
    "regions = ['NA', 'LATAM', 'EMEA', 'APAC']\n",
    "ages = ['18-24', '25-44', '45+']\n",
    "events = [\n",
    "    [\n",
    "        random.randint(1, 1),     # Space ID\n",
    "        es[i],                    # Key\n",
    "        'click',                  # Type\n",
    "        random.choice(campaigns), # Campaign Name\n",
    "        random.choice(regions),   # Event Region\n",
    "        random.choice(ages)       # Event User's Age Range\n",
    "    ]\n",
    "    for i in range(10)\n",
    "]\n",
    "events"
   ]
  },
  {
   "cell_type": "markdown",
   "id": "e4ec24a3-fa29-4b63-9554-3a20bd4be249",
   "metadata": {},
   "source": [
    "### Advertiser Conversions"
   ]
  },
  {
   "cell_type": "code",
   "execution_count": 119,
   "id": "77082a2f-27c4-4afb-8e02-4d3cdd72a350",
   "metadata": {},
   "outputs": [
    {
     "data": {
      "text/plain": [
       "[[1, 'xmonroe@example.com', 'Purchase'],\n",
       " [1, 'davisdouglas@example.org', 'Subscription'],\n",
       " [1, 'alexander86@example.net', 'Purchase'],\n",
       " [1, 'matthew61@example.net', 'Subscription'],\n",
       " [1, 'boonedebbie@example.net', 'Purchase'],\n",
       " [1, 'aimee73@example.net', 'Subscription'],\n",
       " [1, 'rhonda97@example.com', 'Purchase'],\n",
       " [1, 'mcintyredominique@example.org', 'Purchase'],\n",
       " [1, 'matthew02@example.org', 'Purchase'],\n",
       " [1, 'mayala@example.com', 'Purchase']]"
      ]
     },
     "execution_count": 119,
     "metadata": {},
     "output_type": "execute_result"
    }
   ],
   "source": [
    "es = random.sample(emails, 10)\n",
    "names = ['Purchase', 'Subscription']\n",
    "conversions = [\n",
    "    [\n",
    "        random.randint(1, 1), # Space ID\n",
    "        es[i],                # Key\n",
    "        random.choice(names)  # Event Name\n",
    "    ]\n",
    "    for i in range(10)\n",
    "]\n",
    "conversions"
   ]
  },
  {
   "cell_type": "markdown",
   "id": "9ff73546-91ad-41e0-9eb2-bd00e124c9ee",
   "metadata": {},
   "source": [
    "## Privacy-Preserving Aggregation of Conversions with $k$-anonymity"
   ]
  },
  {
   "cell_type": "markdown",
   "id": "977ca910-74eb-4056-9c24-e7c6df17905a",
   "metadata": {},
   "source": [
    "The workflow below joins the publisher engagement events with the advertiser conversions and aggregates the number of conversions for each distinct Space ID in the overlap."
   ]
  },
  {
   "cell_type": "code",
   "execution_count": 128,
   "id": "90c34b7e-0554-4d7a-8683-612015dc1240",
   "metadata": {},
   "outputs": [
    {
     "data": {
      "text/plain": [
       "{'B': 4, 'C': 1, 'A': 2}"
      ]
     },
     "execution_count": 128,
     "metadata": {},
     "output_type": "execute_result"
    }
   ],
   "source": [
    "join = [\n",
    "    [spaceid_e, type_e, campaign_e, region_e, age_e, name_c]\n",
    "    for (spaceid_e, key_e, type_e, campaign_e, region_e, age_e) in events\n",
    "    for (spaceid_c, key_c, name_c) in conversions\n",
    "    if key_e == key_c\n",
    "]\n",
    "aggregate = {\n",
    "    campaign: sum([1 for (_, _, c, _, _, _,) in join if campaign == c])\n",
    "    for [_, _, campaign, _, _, _] in join\n",
    "}\n",
    "aggregate"
   ]
  },
  {
   "cell_type": "markdown",
   "id": "4e3115b2-599d-4bac-99ed-1a6ad679e912",
   "metadata": {},
   "source": [
    "## Privacy-Preserving Aggregation of Conversions with Differential Privacy"
   ]
  },
  {
   "cell_type": "markdown",
   "id": "cd04eaeb-7322-4db5-b69d-e880b2d9d128",
   "metadata": {},
   "source": [
    "The workflow below joins the publisher engagement events with the advertiser conversions and aggregates the number of conversions for each distinct Space ID in the overlap."
   ]
  },
  {
   "cell_type": "code",
   "execution_count": 129,
   "id": "227b98be-7cc7-48a8-80ea-53e031d5340c",
   "metadata": {},
   "outputs": [
    {
     "data": {
      "text/plain": [
       "{'B': 4, 'C': 1, 'A': 2}"
      ]
     },
     "execution_count": 129,
     "metadata": {},
     "output_type": "execute_result"
    }
   ],
   "source": [
    "join = [\n",
    "    [spaceid_e, type_e, campaign_e, name_c]\n",
    "    for (spaceid_e, key_e, type_e, campaign_e, region_e, age_e) in events\n",
    "    for (spaceid_c, key_c, name_c) in conversions\n",
    "    if key_e == key_c\n",
    "]\n",
    "aggregate = {\n",
    "    campaign: sum([1 for (s, t, c, n) in join if campaign == c])\n",
    "    for [_, _, campaign, _] in join\n",
    "}\n",
    "aggregate"
   ]
  },
  {
   "cell_type": "markdown",
   "id": "0438e720-0369-4820-8e47-44dd8571fcf5",
   "metadata": {},
   "source": [
    "## Matching Encrypted User PII and Filtered Aggregation of Conversions with HE"
   ]
  },
  {
   "cell_type": "markdown",
   "id": "261527b6-048c-4861-9b70-3059e9c6ef19",
   "metadata": {},
   "source": [
    "The workflow below joins the publisher engagement events with the advertiser conversions and aggregates the number of conversions for each distinct Space ID in the overlap."
   ]
  },
  {
   "cell_type": "code",
   "execution_count": 127,
   "id": "88c99206-8a02-4442-a1ea-fd60101ad26c",
   "metadata": {},
   "outputs": [
    {
     "data": {
      "text/plain": [
       "{'B': 3, 'C': 0, 'A': 2}"
      ]
     },
     "execution_count": 127,
     "metadata": {},
     "output_type": "execute_result"
    }
   ],
   "source": [
    "join = [\n",
    "    [spaceid_e, type_e, campaign_e, name_c]\n",
    "    for (spaceid_e, key_e, type_e, campaign_e, region_e, age_e) in events\n",
    "    for (spaceid_c, key_c, name_c) in conversions\n",
    "    if key_e == key_c\n",
    "]\n",
    "aggregate = {\n",
    "    campaign: sum([1 for (s, t, c, n) in join if campaign == c and n == 'Purchase'])\n",
    "    for [_, _, campaign, _] in join\n",
    "}\n",
    "aggregate"
   ]
  }
 ],
 "metadata": {
  "kernelspec": {
   "display_name": "Python 3 (ipykernel)",
   "language": "python",
   "name": "python3"
  },
  "language_info": {
   "codemirror_mode": {
    "name": "ipython",
    "version": 3
   },
   "file_extension": ".py",
   "mimetype": "text/x-python",
   "name": "python",
   "nbconvert_exporter": "python",
   "pygments_lexer": "ipython3",
   "version": "3.12.3"
  }
 },
 "nbformat": 4,
 "nbformat_minor": 5
}
