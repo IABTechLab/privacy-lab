{
 "cells": [
  {
   "cell_type": "markdown",
   "id": "90306d2e-9308-471a-903a-99da50af2ac5",
   "metadata": {},
   "source": [
    "# Privacy-Enhancing Technologies in an Attribution Measurement Workflow "
   ]
  },
  {
   "cell_type": "markdown",
   "id": "5d9e5877-1a0a-4f0a-b7c0-84ce4f792224",
   "metadata": {},
   "source": [
    "This notebook contains three digital advertising campaign attribution measurement workflow variants that illustrate how three different privacy-enahncing technologies (PETS) can enhance the privacy-preserving properties of the workflow. The format of the sample input data is informed by the schemas defined in the [**Attribution Data Matching Protocol (ADMaP) specification**](https://iabtechlab.com/admap/) and **Universal CAPI v1**."
   ]
  },
  {
   "cell_type": "markdown",
   "id": "6ca4edaf-0321-4729-abea-e36ca8367b84",
   "metadata": {},
   "source": [
    "## Dependencies"
   ]
  },
  {
   "cell_type": "markdown",
   "id": "0b21ab57-7d63-4758-b3b7-5a0e5ef3d654",
   "metadata": {},
   "source": [
    "The examples in this notebook rely on several Python packages. These are enumerated in the `requirements.txt` file found in the same directory and can be installed using [pip](https://pip.pypa.io/en/stable/) via a command such as the below:\n",
    "```\n",
    "python -m pip install -r requirements.txt\n",
    "```"
   ]
  },
  {
   "cell_type": "markdown",
   "id": "099e9ec8-6ef6-4637-95ac-67f9829448f2",
   "metadata": {},
   "source": [
    "## Example ADMaP-Compatible Data"
   ]
  },
  {
   "cell_type": "markdown",
   "id": "9ea37909-a645-408e-a505-b9552dafc53e",
   "metadata": {},
   "source": [
    "A few common dependencies are leveraged to generate example data."
   ]
  },
  {
   "cell_type": "code",
   "execution_count": 1,
   "id": "74eeb967-e902-4bbd-949a-042d5825b71c",
   "metadata": {},
   "outputs": [],
   "source": [
    "import random\n",
    "from tqdm.notebook import tqdm\n",
    "import faker"
   ]
  },
  {
   "cell_type": "markdown",
   "id": "7ac42269-1b7f-4705-86ad-5ffa634d6f85",
   "metadata": {},
   "source": [
    "A common space of email addresses (which are used as keys for matching event data with conversion data throughout this document) is generated below and leveraged for creating the simulated records within example data sets."
   ]
  },
  {
   "cell_type": "code",
   "execution_count": 2,
   "id": "8fdbe21b-eb58-4057-abcf-787bd057462a",
   "metadata": {},
   "outputs": [
    {
     "data": {
      "application/vnd.jupyter.widget-view+json": {
       "model_id": "bdc1aa48e6e24602a544edd5a4750a83",
       "version_major": 2,
       "version_minor": 0
      },
      "text/plain": [
       "  0%|          | 0/10000 [00:00<?, ?it/s]"
      ]
     },
     "metadata": {},
     "output_type": "display_data"
    }
   ],
   "source": [
    "random.seed(123)\n",
    "faker.Faker.seed(123)\n",
    "fake = faker.Faker()\n",
    "emails = [fake.email() for _ in tqdm(range(10000))]"
   ]
  },
  {
   "cell_type": "markdown",
   "id": "11ab4aa0-5df5-4ba5-bbd7-06982dbe7411",
   "metadata": {},
   "source": [
    "The function below is used to display data as a table in a legible manner."
   ]
  },
  {
   "cell_type": "code",
   "execution_count": 3,
   "id": "60b89d3b-d3aa-40f9-b99a-42db8e345dca",
   "metadata": {},
   "outputs": [],
   "source": [
    "import pandas as pd\n",
    "\n",
    "def table(data, columns):\n",
    "    df = pd.DataFrame(data, columns=columns)\n",
    "    return df"
   ]
  },
  {
   "cell_type": "markdown",
   "id": "5bde8c54-f1ee-4537-b02b-0fd6b9d88b7a",
   "metadata": {},
   "source": [
    "### Publisher Engagement Events"
   ]
  },
  {
   "cell_type": "markdown",
   "id": "ebbc6519-33cc-455b-8d1d-758333e42f0e",
   "metadata": {},
   "source": [
    "The code block below generates simulated engagement event data that might be supplied by a publisher to a clean room."
   ]
  },
  {
   "cell_type": "code",
   "execution_count": 4,
   "id": "fe53f4bc-9ed5-4d04-863a-8c16c165dd6c",
   "metadata": {},
   "outputs": [
    {
     "data": {
      "application/vnd.jupyter.widget-view+json": {
       "model_id": "4dfdcf8ae477411fa5a40546d828d24d",
       "version_major": 2,
       "version_minor": 0
      },
      "text/plain": [
       "  0%|          | 0/5000 [00:00<?, ?it/s]"
      ]
     },
     "metadata": {},
     "output_type": "display_data"
    },
    {
     "data": {
      "text/html": [
       "<div>\n",
       "<style scoped>\n",
       "    .dataframe tbody tr th:only-of-type {\n",
       "        vertical-align: middle;\n",
       "    }\n",
       "\n",
       "    .dataframe tbody tr th {\n",
       "        vertical-align: top;\n",
       "    }\n",
       "\n",
       "    .dataframe thead th {\n",
       "        text-align: right;\n",
       "    }\n",
       "</style>\n",
       "<table border=\"1\" class=\"dataframe\">\n",
       "  <thead>\n",
       "    <tr style=\"text-align: right;\">\n",
       "      <th></th>\n",
       "      <th>Space ID</th>\n",
       "      <th>user_data.email_address</th>\n",
       "      <th>event_type</th>\n",
       "      <th>event_properties.promotion_name</th>\n",
       "      <th>user_data.address.region</th>\n",
       "      <th>user_data.opt_out</th>\n",
       "    </tr>\n",
       "  </thead>\n",
       "  <tbody>\n",
       "    <tr>\n",
       "      <th>0</th>\n",
       "      <td>1</td>\n",
       "      <td>ugates@example.com</td>\n",
       "      <td>click</td>\n",
       "      <td>Purple</td>\n",
       "      <td>LATAM</td>\n",
       "      <td>True</td>\n",
       "    </tr>\n",
       "    <tr>\n",
       "      <th>1</th>\n",
       "      <td>1</td>\n",
       "      <td>varnold@example.net</td>\n",
       "      <td>click</td>\n",
       "      <td>Purple</td>\n",
       "      <td>ROW</td>\n",
       "      <td>False</td>\n",
       "    </tr>\n",
       "    <tr>\n",
       "      <th>2</th>\n",
       "      <td>1</td>\n",
       "      <td>moorewayne@example.com</td>\n",
       "      <td>click</td>\n",
       "      <td>Yellow</td>\n",
       "      <td>LATAM</td>\n",
       "      <td>True</td>\n",
       "    </tr>\n",
       "    <tr>\n",
       "      <th>3</th>\n",
       "      <td>1</td>\n",
       "      <td>jamesrogers@example.net</td>\n",
       "      <td>click</td>\n",
       "      <td>Blue</td>\n",
       "      <td>ROW</td>\n",
       "      <td>False</td>\n",
       "    </tr>\n",
       "    <tr>\n",
       "      <th>4</th>\n",
       "      <td>1</td>\n",
       "      <td>cranekenneth@example.org</td>\n",
       "      <td>click</td>\n",
       "      <td>Blue</td>\n",
       "      <td>ROW</td>\n",
       "      <td>True</td>\n",
       "    </tr>\n",
       "    <tr>\n",
       "      <th>...</th>\n",
       "      <td>...</td>\n",
       "      <td>...</td>\n",
       "      <td>...</td>\n",
       "      <td>...</td>\n",
       "      <td>...</td>\n",
       "      <td>...</td>\n",
       "    </tr>\n",
       "    <tr>\n",
       "      <th>4995</th>\n",
       "      <td>1</td>\n",
       "      <td>cgray@example.org</td>\n",
       "      <td>click</td>\n",
       "      <td>Purple</td>\n",
       "      <td>LATAM</td>\n",
       "      <td>True</td>\n",
       "    </tr>\n",
       "    <tr>\n",
       "      <th>4996</th>\n",
       "      <td>1</td>\n",
       "      <td>richard35@example.net</td>\n",
       "      <td>click</td>\n",
       "      <td>Orange</td>\n",
       "      <td>ROW</td>\n",
       "      <td>False</td>\n",
       "    </tr>\n",
       "    <tr>\n",
       "      <th>4997</th>\n",
       "      <td>1</td>\n",
       "      <td>ryanheath@example.org</td>\n",
       "      <td>click</td>\n",
       "      <td>Green</td>\n",
       "      <td>ROW</td>\n",
       "      <td>True</td>\n",
       "    </tr>\n",
       "    <tr>\n",
       "      <th>4998</th>\n",
       "      <td>1</td>\n",
       "      <td>pottstroy@example.net</td>\n",
       "      <td>click</td>\n",
       "      <td>Yellow</td>\n",
       "      <td>ROW</td>\n",
       "      <td>True</td>\n",
       "    </tr>\n",
       "    <tr>\n",
       "      <th>4999</th>\n",
       "      <td>1</td>\n",
       "      <td>kristenpark@example.com</td>\n",
       "      <td>click</td>\n",
       "      <td>Orange</td>\n",
       "      <td>ROW</td>\n",
       "      <td>True</td>\n",
       "    </tr>\n",
       "  </tbody>\n",
       "</table>\n",
       "<p>5000 rows × 6 columns</p>\n",
       "</div>"
      ],
      "text/plain": [
       "      Space ID   user_data.email_address event_type  \\\n",
       "0            1        ugates@example.com      click   \n",
       "1            1       varnold@example.net      click   \n",
       "2            1    moorewayne@example.com      click   \n",
       "3            1   jamesrogers@example.net      click   \n",
       "4            1  cranekenneth@example.org      click   \n",
       "...        ...                       ...        ...   \n",
       "4995         1         cgray@example.org      click   \n",
       "4996         1     richard35@example.net      click   \n",
       "4997         1     ryanheath@example.org      click   \n",
       "4998         1     pottstroy@example.net      click   \n",
       "4999         1   kristenpark@example.com      click   \n",
       "\n",
       "     event_properties.promotion_name user_data.address.region  \\\n",
       "0                             Purple                    LATAM   \n",
       "1                             Purple                      ROW   \n",
       "2                             Yellow                    LATAM   \n",
       "3                               Blue                      ROW   \n",
       "4                               Blue                      ROW   \n",
       "...                              ...                      ...   \n",
       "4995                          Purple                    LATAM   \n",
       "4996                          Orange                      ROW   \n",
       "4997                           Green                      ROW   \n",
       "4998                          Yellow                      ROW   \n",
       "4999                          Orange                      ROW   \n",
       "\n",
       "      user_data.opt_out  \n",
       "0                  True  \n",
       "1                 False  \n",
       "2                  True  \n",
       "3                 False  \n",
       "4                  True  \n",
       "...                 ...  \n",
       "4995               True  \n",
       "4996              False  \n",
       "4997               True  \n",
       "4998               True  \n",
       "4999               True  \n",
       "\n",
       "[5000 rows x 6 columns]"
      ]
     },
     "execution_count": 4,
     "metadata": {},
     "output_type": "execute_result"
    }
   ],
   "source": [
    "emails = random.sample(emails, 10000)\n",
    "campaigns = ['Red', 'Orange', 'Yellow', 'Green', 'Blue', 'Purple']\n",
    "regions = ['NA', 'LATAM', 'EMEA', 'APAC', 'ROW']\n",
    "\n",
    "events = [\n",
    "    [\n",
    "        random.randint(1, 1),        # Space ID\n",
    "        emails[i],                   # user_data.email_address\n",
    "        'click',                     # event_type\n",
    "        random.choice(campaigns),    # event_properties.promotion_name\n",
    "        random.choice(regions),      # user_data.address.region\n",
    "        random.choice([False, True]) # user_data.opt_out\n",
    "    ]\n",
    "    for i in tqdm(range(5000))\n",
    "]\n",
    "\n",
    "table(\n",
    "    events,\n",
    "    [\n",
    "        \"Space ID\",\n",
    "        \"user_data.email_address\",\n",
    "        \"event_type\",\n",
    "        \"event_properties.promotion_name\",\n",
    "        \"user_data.address.region\",\n",
    "        \"user_data.opt_out\"\n",
    "    ]\n",
    ")"
   ]
  },
  {
   "cell_type": "markdown",
   "id": "e4ec24a3-fa29-4b63-9554-3a20bd4be249",
   "metadata": {},
   "source": [
    "### Advertiser Conversions"
   ]
  },
  {
   "cell_type": "markdown",
   "id": "fc39d440-4fec-4f48-8c4a-c06b8921278d",
   "metadata": {},
   "source": [
    "The code block below generates simulated conversion data that might be supplied by an advertiser to a clean room."
   ]
  },
  {
   "cell_type": "code",
   "execution_count": 5,
   "id": "77082a2f-27c4-4afb-8e02-4d3cdd72a350",
   "metadata": {},
   "outputs": [
    {
     "data": {
      "text/html": [
       "<div>\n",
       "<style scoped>\n",
       "    .dataframe tbody tr th:only-of-type {\n",
       "        vertical-align: middle;\n",
       "    }\n",
       "\n",
       "    .dataframe tbody tr th {\n",
       "        vertical-align: top;\n",
       "    }\n",
       "\n",
       "    .dataframe thead th {\n",
       "        text-align: right;\n",
       "    }\n",
       "</style>\n",
       "<table border=\"1\" class=\"dataframe\">\n",
       "  <thead>\n",
       "    <tr style=\"text-align: right;\">\n",
       "      <th></th>\n",
       "      <th>Space ID</th>\n",
       "      <th>user_data.email_address</th>\n",
       "      <th>event_type</th>\n",
       "    </tr>\n",
       "  </thead>\n",
       "  <tbody>\n",
       "    <tr>\n",
       "      <th>0</th>\n",
       "      <td>1</td>\n",
       "      <td>connorpacheco@example.com</td>\n",
       "      <td>Subscription</td>\n",
       "    </tr>\n",
       "    <tr>\n",
       "      <th>1</th>\n",
       "      <td>1</td>\n",
       "      <td>chadtrevino@example.net</td>\n",
       "      <td>Subscription</td>\n",
       "    </tr>\n",
       "    <tr>\n",
       "      <th>2</th>\n",
       "      <td>1</td>\n",
       "      <td>rodriguezrobert@example.org</td>\n",
       "      <td>Purchase</td>\n",
       "    </tr>\n",
       "    <tr>\n",
       "      <th>3</th>\n",
       "      <td>1</td>\n",
       "      <td>tonya48@example.com</td>\n",
       "      <td>Purchase</td>\n",
       "    </tr>\n",
       "    <tr>\n",
       "      <th>4</th>\n",
       "      <td>1</td>\n",
       "      <td>pfitzgerald@example.org</td>\n",
       "      <td>Subscription</td>\n",
       "    </tr>\n",
       "    <tr>\n",
       "      <th>...</th>\n",
       "      <td>...</td>\n",
       "      <td>...</td>\n",
       "      <td>...</td>\n",
       "    </tr>\n",
       "    <tr>\n",
       "      <th>995</th>\n",
       "      <td>1</td>\n",
       "      <td>rodriguezjonathan@example.net</td>\n",
       "      <td>Subscription</td>\n",
       "    </tr>\n",
       "    <tr>\n",
       "      <th>996</th>\n",
       "      <td>1</td>\n",
       "      <td>klowery@example.org</td>\n",
       "      <td>Subscription</td>\n",
       "    </tr>\n",
       "    <tr>\n",
       "      <th>997</th>\n",
       "      <td>1</td>\n",
       "      <td>cunninghamtimothy@example.com</td>\n",
       "      <td>Subscription</td>\n",
       "    </tr>\n",
       "    <tr>\n",
       "      <th>998</th>\n",
       "      <td>1</td>\n",
       "      <td>twhite@example.org</td>\n",
       "      <td>Subscription</td>\n",
       "    </tr>\n",
       "    <tr>\n",
       "      <th>999</th>\n",
       "      <td>1</td>\n",
       "      <td>qvaldez@example.com</td>\n",
       "      <td>Subscription</td>\n",
       "    </tr>\n",
       "  </tbody>\n",
       "</table>\n",
       "<p>1000 rows × 3 columns</p>\n",
       "</div>"
      ],
      "text/plain": [
       "     Space ID        user_data.email_address    event_type\n",
       "0           1      connorpacheco@example.com  Subscription\n",
       "1           1        chadtrevino@example.net  Subscription\n",
       "2           1    rodriguezrobert@example.org      Purchase\n",
       "3           1            tonya48@example.com      Purchase\n",
       "4           1        pfitzgerald@example.org  Subscription\n",
       "..        ...                            ...           ...\n",
       "995         1  rodriguezjonathan@example.net  Subscription\n",
       "996         1            klowery@example.org  Subscription\n",
       "997         1  cunninghamtimothy@example.com  Subscription\n",
       "998         1             twhite@example.org  Subscription\n",
       "999         1            qvaldez@example.com  Subscription\n",
       "\n",
       "[1000 rows x 3 columns]"
      ]
     },
     "execution_count": 5,
     "metadata": {},
     "output_type": "execute_result"
    }
   ],
   "source": [
    "emails = random.sample(emails, 1000)\n",
    "types = ['Purchase', 'Subscription']\n",
    "\n",
    "conversions = [\n",
    "    [\n",
    "        random.randint(1, 1),  # Space ID\n",
    "        emails[i],             # user_data.email_address\n",
    "        random.choice(types)   # event_type\n",
    "    ]\n",
    "    for i in range(len(emails))\n",
    "]\n",
    "\n",
    "table(conversions, [\"Space ID\", \"user_data.email_address\", \"event_type\"])"
   ]
  },
  {
   "cell_type": "markdown",
   "id": "9ff73546-91ad-41e0-9eb2-bd00e124c9ee",
   "metadata": {},
   "source": [
    "## Privacy-Preserving Aggregation of Conversions with $k$-anonymity"
   ]
  },
  {
   "cell_type": "markdown",
   "id": "17860dab-87b0-4f1d-89c8-7778f3ee3fcd",
   "metadata": {},
   "source": [
    "This section illustrates how $k$-anonymity can be incorporated into a basic aggregation workflow."
   ]
  },
  {
   "cell_type": "markdown",
   "id": "c7a217cc-eacd-424e-bbde-9ba4ae8de163",
   "metadata": {},
   "source": [
    "### Reference Workflow"
   ]
  },
  {
   "cell_type": "markdown",
   "id": "977ca910-74eb-4056-9c24-e7c6df17905a",
   "metadata": {},
   "source": [
    "The workflow below (in its plaintext reference version) joins the publisher engagement events with the advertiser conversions and aggregates the number of conversions for each distinct campaign in the overlap."
   ]
  },
  {
   "cell_type": "code",
   "execution_count": 6,
   "id": "90c34b7e-0554-4d7a-8683-612015dc1240",
   "metadata": {},
   "outputs": [
    {
     "data": {
      "text/html": [
       "<div>\n",
       "<style scoped>\n",
       "    .dataframe tbody tr th:only-of-type {\n",
       "        vertical-align: middle;\n",
       "    }\n",
       "\n",
       "    .dataframe tbody tr th {\n",
       "        vertical-align: top;\n",
       "    }\n",
       "\n",
       "    .dataframe thead th {\n",
       "        text-align: right;\n",
       "    }\n",
       "</style>\n",
       "<table border=\"1\" class=\"dataframe\">\n",
       "  <thead>\n",
       "    <tr style=\"text-align: right;\">\n",
       "      <th></th>\n",
       "      <th>event_properties.promotion_name</th>\n",
       "      <th>count(Purchase|Subscription)</th>\n",
       "    </tr>\n",
       "  </thead>\n",
       "  <tbody>\n",
       "    <tr>\n",
       "      <th>0</th>\n",
       "      <td>Red</td>\n",
       "      <td>80</td>\n",
       "    </tr>\n",
       "    <tr>\n",
       "      <th>1</th>\n",
       "      <td>Orange</td>\n",
       "      <td>88</td>\n",
       "    </tr>\n",
       "    <tr>\n",
       "      <th>2</th>\n",
       "      <td>Yellow</td>\n",
       "      <td>100</td>\n",
       "    </tr>\n",
       "    <tr>\n",
       "      <th>3</th>\n",
       "      <td>Green</td>\n",
       "      <td>74</td>\n",
       "    </tr>\n",
       "    <tr>\n",
       "      <th>4</th>\n",
       "      <td>Blue</td>\n",
       "      <td>96</td>\n",
       "    </tr>\n",
       "    <tr>\n",
       "      <th>5</th>\n",
       "      <td>Purple</td>\n",
       "      <td>85</td>\n",
       "    </tr>\n",
       "  </tbody>\n",
       "</table>\n",
       "</div>"
      ],
      "text/plain": [
       "  event_properties.promotion_name  count(Purchase|Subscription)\n",
       "0                             Red                            80\n",
       "1                          Orange                            88\n",
       "2                          Yellow                           100\n",
       "3                           Green                            74\n",
       "4                            Blue                            96\n",
       "5                          Purple                            85"
      ]
     },
     "execution_count": 6,
     "metadata": {},
     "output_type": "execute_result"
    }
   ],
   "source": [
    "join_ka_ref = [\n",
    "    [\n",
    "        spaceid_e,\n",
    "        type_e,\n",
    "        campaign_e,\n",
    "        region_e,\n",
    "        opt_e,\n",
    "        type_c\n",
    "    ]\n",
    "    for (spaceid_e, key_e, type_e, campaign_e, region_e, opt_e) in events\n",
    "    for (spaceid_c, key_c, type_c) in conversions\n",
    "    if key_e == key_c\n",
    "]\n",
    "\n",
    "aggregate_ka_ref = [\n",
    "    [\n",
    "        campaign,\n",
    "        sum([\n",
    "            1\n",
    "            for (_, _, campaign_, _, _, _,) in join_ka_ref\n",
    "            if campaign == campaign_\n",
    "        ])\n",
    "    ]\n",
    "    for campaign in campaigns # Unique campaigns.\n",
    "]\n",
    "\n",
    "table(aggregate_ka_ref, [\"event_properties.promotion_name\", \"count(Purchase|Subscription)\"])"
   ]
  },
  {
   "cell_type": "markdown",
   "id": "81bddb19-8efe-4adf-969d-9a28d0195df3",
   "metadata": {},
   "source": [
    "### Enhanced Workflow"
   ]
  },
  {
   "cell_type": "markdown",
   "id": "b6ec613d-2dd1-427d-ace0-1b1d67974f15",
   "metadata": {},
   "source": [
    "This section is not yet completed."
   ]
  },
  {
   "cell_type": "markdown",
   "id": "4e3115b2-599d-4bac-99ed-1a6ad679e912",
   "metadata": {},
   "source": [
    "## Privacy-Preserving Aggregation of Conversions with Differential Privacy (DP)"
   ]
  },
  {
   "cell_type": "markdown",
   "id": "349ec0e4-a523-4a39-b2a1-20e90caab339",
   "metadata": {},
   "source": [
    "This section presents and discusses a differentially private aggregation workflow for conversion data. The examples in this section make use of the [OpenDP](https://docs.opendp.org/en/stable/index.html) library. OpenDP was chosen for its portability; alternatives include the [collection of DP libraries and tools made available by Google](https://github.com/google/differential-privacy)."
   ]
  },
  {
   "cell_type": "markdown",
   "id": "ca392d5c-0eef-464e-a565-2226d6d3663a",
   "metadata": {},
   "source": [
    "### Reference Workflow"
   ]
  },
  {
   "cell_type": "markdown",
   "id": "cd04eaeb-7322-4db5-b69d-e880b2d9d128",
   "metadata": {},
   "source": [
    "The workflow below (in its plaintext reference version) joins the publisher engagement events with the advertiser conversions and aggregates the number of conversions for each distinct campaign in the overlap. Usually, the event and conversion data would be sent by the publisher and advertiser (respectively) to a clean room. The clean room would then run this workflow. See the [ADMaP standard](https://iabtechlab.com/admap/) for a more detailed discussion and examples."
   ]
  },
  {
   "cell_type": "code",
   "execution_count": 7,
   "id": "227b98be-7cc7-48a8-80ea-53e031d5340c",
   "metadata": {},
   "outputs": [
    {
     "data": {
      "text/html": [
       "<div>\n",
       "<style scoped>\n",
       "    .dataframe tbody tr th:only-of-type {\n",
       "        vertical-align: middle;\n",
       "    }\n",
       "\n",
       "    .dataframe tbody tr th {\n",
       "        vertical-align: top;\n",
       "    }\n",
       "\n",
       "    .dataframe thead th {\n",
       "        text-align: right;\n",
       "    }\n",
       "</style>\n",
       "<table border=\"1\" class=\"dataframe\">\n",
       "  <thead>\n",
       "    <tr style=\"text-align: right;\">\n",
       "      <th></th>\n",
       "      <th>event_properties.promotion_name</th>\n",
       "      <th>count(Purchase|Subscription)</th>\n",
       "    </tr>\n",
       "  </thead>\n",
       "  <tbody>\n",
       "    <tr>\n",
       "      <th>0</th>\n",
       "      <td>Red</td>\n",
       "      <td>80</td>\n",
       "    </tr>\n",
       "    <tr>\n",
       "      <th>1</th>\n",
       "      <td>Orange</td>\n",
       "      <td>88</td>\n",
       "    </tr>\n",
       "    <tr>\n",
       "      <th>2</th>\n",
       "      <td>Yellow</td>\n",
       "      <td>100</td>\n",
       "    </tr>\n",
       "    <tr>\n",
       "      <th>3</th>\n",
       "      <td>Green</td>\n",
       "      <td>74</td>\n",
       "    </tr>\n",
       "    <tr>\n",
       "      <th>4</th>\n",
       "      <td>Blue</td>\n",
       "      <td>96</td>\n",
       "    </tr>\n",
       "    <tr>\n",
       "      <th>5</th>\n",
       "      <td>Purple</td>\n",
       "      <td>85</td>\n",
       "    </tr>\n",
       "  </tbody>\n",
       "</table>\n",
       "</div>"
      ],
      "text/plain": [
       "  event_properties.promotion_name  count(Purchase|Subscription)\n",
       "0                             Red                            80\n",
       "1                          Orange                            88\n",
       "2                          Yellow                           100\n",
       "3                           Green                            74\n",
       "4                            Blue                            96\n",
       "5                          Purple                            85"
      ]
     },
     "execution_count": 7,
     "metadata": {},
     "output_type": "execute_result"
    }
   ],
   "source": [
    "join_dp_ref = [\n",
    "    [\n",
    "        spaceid_e,\n",
    "        type_e,\n",
    "        campaign_e,\n",
    "        region_e,\n",
    "        opt_e,\n",
    "        type_c\n",
    "    ]\n",
    "    for (spaceid_e, key_e, type_e, campaign_e, region_e, opt_e) in events\n",
    "    for (spaceid_c, key_c, type_c) in conversions\n",
    "    if key_e == key_c\n",
    "]\n",
    "\n",
    "aggregate_dp_ref = [\n",
    "    [\n",
    "        campaign,\n",
    "        sum([\n",
    "            1\n",
    "            for (_, _, campaign_, _, _, _,) in join_dp_ref\n",
    "            if campaign == campaign_\n",
    "        ])\n",
    "    ]\n",
    "    for campaign in campaigns # Unique campaigns.\n",
    "]\n",
    "\n",
    "table(aggregate_dp_ref, [\"event_properties.promotion_name\", \"count(Purchase|Subscription)\"])"
   ]
  },
  {
   "cell_type": "markdown",
   "id": "06a26175-815e-4a84-9df4-2aa42163d6ac",
   "metadata": {},
   "source": [
    "### Workflow Variant with Differentially Private Output"
   ]
  },
  {
   "cell_type": "markdown",
   "id": "8bf5c8f2-00c6-4750-846f-9f92d3942ab1",
   "metadata": {},
   "source": [
    "The workflow below computes a differentially private total for each campaign."
   ]
  },
  {
   "cell_type": "code",
   "execution_count": 17,
   "id": "1aa80f54-50dc-4488-8160-50467f7feab2",
   "metadata": {},
   "outputs": [
    {
     "data": {
      "application/vnd.jupyter.widget-view+json": {
       "model_id": "082e7b0ee8fa446fab28c3616bca65bc",
       "version_major": 2,
       "version_minor": 0
      },
      "text/plain": [
       "  0%|          | 0/6 [00:00<?, ?it/s]"
      ]
     },
     "metadata": {},
     "output_type": "display_data"
    },
    {
     "data": {
      "text/html": [
       "<div>\n",
       "<style scoped>\n",
       "    .dataframe tbody tr th:only-of-type {\n",
       "        vertical-align: middle;\n",
       "    }\n",
       "\n",
       "    .dataframe tbody tr th {\n",
       "        vertical-align: top;\n",
       "    }\n",
       "\n",
       "    .dataframe thead th {\n",
       "        text-align: right;\n",
       "    }\n",
       "</style>\n",
       "<table border=\"1\" class=\"dataframe\">\n",
       "  <thead>\n",
       "    <tr style=\"text-align: right;\">\n",
       "      <th></th>\n",
       "      <th>campaign</th>\n",
       "      <th>non-DP</th>\n",
       "      <th>DP</th>\n",
       "    </tr>\n",
       "  </thead>\n",
       "  <tbody>\n",
       "    <tr>\n",
       "      <th>0</th>\n",
       "      <td>Red</td>\n",
       "      <td>80.0</td>\n",
       "      <td>57.0</td>\n",
       "    </tr>\n",
       "    <tr>\n",
       "      <th>1</th>\n",
       "      <td>Orange</td>\n",
       "      <td>88.0</td>\n",
       "      <td>91.0</td>\n",
       "    </tr>\n",
       "    <tr>\n",
       "      <th>2</th>\n",
       "      <td>Yellow</td>\n",
       "      <td>100.0</td>\n",
       "      <td>101.0</td>\n",
       "    </tr>\n",
       "    <tr>\n",
       "      <th>3</th>\n",
       "      <td>Green</td>\n",
       "      <td>74.0</td>\n",
       "      <td>91.0</td>\n",
       "    </tr>\n",
       "    <tr>\n",
       "      <th>4</th>\n",
       "      <td>Blue</td>\n",
       "      <td>96.0</td>\n",
       "      <td>8.0</td>\n",
       "    </tr>\n",
       "    <tr>\n",
       "      <th>5</th>\n",
       "      <td>Purple</td>\n",
       "      <td>85.0</td>\n",
       "      <td>83.0</td>\n",
       "    </tr>\n",
       "    <tr>\n",
       "      <th>Total</th>\n",
       "      <td></td>\n",
       "      <td>523.0</td>\n",
       "      <td>431.0</td>\n",
       "    </tr>\n",
       "  </tbody>\n",
       "</table>\n",
       "</div>"
      ],
      "text/plain": [
       "      campaign  non-DP     DP\n",
       "0          Red    80.0   57.0\n",
       "1       Orange    88.0   91.0\n",
       "2       Yellow   100.0  101.0\n",
       "3        Green    74.0   91.0\n",
       "4         Blue    96.0    8.0\n",
       "5       Purple    85.0   83.0\n",
       "Total            523.0  431.0"
      ]
     },
     "execution_count": 17,
     "metadata": {},
     "output_type": "execute_result"
    }
   ],
   "source": [
    "import polars as pl\n",
    "import opendp.prelude as dp\n",
    "\n",
    "dp.enable_features(\"contrib\")\n",
    "\n",
    "comparison = [] # Table for comparing DP and non-DP results.\n",
    "\n",
    "# Build a differentially private count of conversions for each campaign.\n",
    "for campaign in tqdm(campaigns):\n",
    "    # Extract all the raw rows for this particular campaign.\n",
    "    filtered = [\n",
    "        1\n",
    "        for [spaceid_e, type_e, campaign_e, region_e, opt_e, type_c] in join_dp_ref\n",
    "        if campaign_e == campaign\n",
    "    ]\n",
    "    df = pl.LazyFrame(filtered, orient=\"row\")\n",
    "\n",
    "    # Build context for query.\n",
    "    context = dp.Context.compositor(\n",
    "        data=df,\n",
    "        privacy_unit=dp.unit_of(contributions=5),\n",
    "        privacy_loss=dp.loss_of(epsilon=1.0),\n",
    "        split_evenly_over=5,\n",
    "    )\n",
    "\n",
    "    # Perform differentially private query.\n",
    "    count_conversions = context.query().select(dp.len())\n",
    "\n",
    "    # Add raw count and differentially private count.\n",
    "    comparison.append([\n",
    "        campaign,\n",
    "        len(filtered),\n",
    "        count_conversions.release().collect()['len'][0]\n",
    "    ])\n",
    "\n",
    "df = table(comparison, ['campaign', 'non-DP', 'DP'])\n",
    "df.loc['Total'] = df.sum(numeric_only=True)\n",
    "df.loc['Total', 'campaign'] = ''\n",
    "df"
   ]
  },
  {
   "cell_type": "markdown",
   "id": "c3bc7072-74a2-4740-b75c-6662e57945ad",
   "metadata": {},
   "source": [
    "The differentially private results are an example of *output privacy*: the final aggregate values are not exactly the true values and limit the amount of information that can be inferred about the inputs. However, *input privacy* is not achieved because the entity computing the differentially private results (such as a clean room) must use the raw data to calculate the differentially private results."
   ]
  },
  {
   "cell_type": "code",
   "execution_count": 18,
   "id": "7aa46443-3bb1-462e-bb75-98047125a289",
   "metadata": {},
   "outputs": [
    {
     "data": {
      "image/png": "[encoded data removed]",
      "text/plain": [
       "<Figure size 640x480 with 1 Axes>"
      ]
     },
     "metadata": {},
     "output_type": "display_data"
    }
   ],
   "source": [
    "import numpy as np\n",
    "import matplotlib.pyplot as plt\n",
    "\n",
    "x = np.arange(len(campaigns))\n",
    "\n",
    "width = 0.35\n",
    "fig, ax = plt.subplots()\n",
    "rects1 = ax.bar(x - width/2, df['non-DP'].tolist()[:-1], width, label='non-DP')\n",
    "rects2 = ax.bar(x + width/2, df['DP'].tolist()[:-1], width, label='DP')\n",
    "ax.set_ylabel('Conversion count')\n",
    "ax.set_title('Conversion count for each campaign')\n",
    "ax.set_xticks(x)\n",
    "ax.set_xticklabels(campaigns)\n",
    "ax.legend()\n",
    "fig.tight_layout()\n",
    "plt.show()"
   ]
  },
  {
   "cell_type": "markdown",
   "id": "0438e720-0369-4820-8e47-44dd8571fcf5",
   "metadata": {},
   "source": [
    "## Privacy-Preserving Aggregation of Encrypted Conversion Data with Homomorphic Encryption"
   ]
  },
  {
   "cell_type": "markdown",
   "id": "48ef9f07-25ee-4ec5-83aa-09829effb909",
   "metadata": {},
   "source": [
    "This section presents and discusses an aggregation workflow for conversion data in which the conversion type within each record remains encrypted during computation. The examples in this section make use of the [pailliers](https://pailliers.readthedocs.io) library that implements the [Paillier cryptosystem](https://en.wikipedia.org/wiki/Paillier_cryptosystem) (a form of homomorphic encryption). While this library is sufficient for the examples in this document, alternative libraries that implement fully homomorphic encryption schemes are recommended. One example of such is the [OpenFHE library](https://openfhe.org/)."
   ]
  },
  {
   "cell_type": "markdown",
   "id": "91282bbb-1d85-482f-91ed-5de6b75edfbb",
   "metadata": {},
   "source": [
    "### Reference Workflow"
   ]
  },
  {
   "cell_type": "markdown",
   "id": "261527b6-048c-4861-9b70-3059e9c6ef19",
   "metadata": {},
   "source": [
    "The workflow below (in its plaintext reference version) joins the publisher engagement events with the advertiser conversions and aggregates the number of conversions of a specific type (in this case, purchases) for each distinct campaign in the overlap."
   ]
  },
  {
   "cell_type": "code",
   "execution_count": 10,
   "id": "88c99206-8a02-4442-a1ea-fd60101ad26c",
   "metadata": {},
   "outputs": [
    {
     "data": {
      "text/html": [
       "<div>\n",
       "<style scoped>\n",
       "    .dataframe tbody tr th:only-of-type {\n",
       "        vertical-align: middle;\n",
       "    }\n",
       "\n",
       "    .dataframe tbody tr th {\n",
       "        vertical-align: top;\n",
       "    }\n",
       "\n",
       "    .dataframe thead th {\n",
       "        text-align: right;\n",
       "    }\n",
       "</style>\n",
       "<table border=\"1\" class=\"dataframe\">\n",
       "  <thead>\n",
       "    <tr style=\"text-align: right;\">\n",
       "      <th></th>\n",
       "      <th>event_properties.promotion_name</th>\n",
       "      <th>count(Purchase)</th>\n",
       "    </tr>\n",
       "  </thead>\n",
       "  <tbody>\n",
       "    <tr>\n",
       "      <th>0</th>\n",
       "      <td>Red</td>\n",
       "      <td>38</td>\n",
       "    </tr>\n",
       "    <tr>\n",
       "      <th>1</th>\n",
       "      <td>Orange</td>\n",
       "      <td>45</td>\n",
       "    </tr>\n",
       "    <tr>\n",
       "      <th>2</th>\n",
       "      <td>Yellow</td>\n",
       "      <td>53</td>\n",
       "    </tr>\n",
       "    <tr>\n",
       "      <th>3</th>\n",
       "      <td>Green</td>\n",
       "      <td>30</td>\n",
       "    </tr>\n",
       "    <tr>\n",
       "      <th>4</th>\n",
       "      <td>Blue</td>\n",
       "      <td>47</td>\n",
       "    </tr>\n",
       "    <tr>\n",
       "      <th>5</th>\n",
       "      <td>Purple</td>\n",
       "      <td>38</td>\n",
       "    </tr>\n",
       "  </tbody>\n",
       "</table>\n",
       "</div>"
      ],
      "text/plain": [
       "  event_properties.promotion_name  count(Purchase)\n",
       "0                             Red               38\n",
       "1                          Orange               45\n",
       "2                          Yellow               53\n",
       "3                           Green               30\n",
       "4                            Blue               47\n",
       "5                          Purple               38"
      ]
     },
     "execution_count": 10,
     "metadata": {},
     "output_type": "execute_result"
    }
   ],
   "source": [
    "join_he_ref = [\n",
    "    [\n",
    "        spaceid_e,\n",
    "        type_e,\n",
    "        campaign_e,\n",
    "        type_c\n",
    "    ]\n",
    "    for (spaceid_e, key_e, type_e, campaign_e, region_e, opt_e) in events\n",
    "    for (spaceid_c, key_c, type_c) in conversions\n",
    "    if key_e == key_c\n",
    "]\n",
    "\n",
    "aggregate_he_ref = [\n",
    "    [\n",
    "        campaign,\n",
    "        sum([\n",
    "            1\n",
    "            for (_, _, campaign_, event_type) in join_he_ref\n",
    "            if campaign == campaign_ and event_type == 'Purchase'\n",
    "        ])\n",
    "    ]\n",
    "    for campaign in campaigns # Unique campaigns.\n",
    "]\n",
    "\n",
    "table(aggregate_he_ref, [\"event_properties.promotion_name\", \"count(Purchase)\"])"
   ]
  },
  {
   "cell_type": "markdown",
   "id": "17d1d39c-7fd4-4d8c-9d21-42fa0dbf4745",
   "metadata": {},
   "source": [
    "### Workflow Variant with Encrypted Event Type Values"
   ]
  },
  {
   "cell_type": "markdown",
   "id": "d27a5775-df81-423a-9d07-462640ace1af",
   "metadata": {},
   "source": [
    "The transformation below encrypts the event column in the original conversion data. This is accomplished by splitting it into two columns (one for each possible event name), encoding the type of event by setting the appropriate column value to ``1`` (and the other column to ``0``), and then encrypting both columns"
   ]
  },
  {
   "cell_type": "code",
   "execution_count": 11,
   "id": "c5b923fc-282e-438a-a824-e2bed2683b11",
   "metadata": {},
   "outputs": [
    {
     "data": {
      "application/vnd.jupyter.widget-view+json": {
       "model_id": "96124dc04243412085cc1920c9532ed9",
       "version_major": 2,
       "version_minor": 0
      },
      "text/plain": [
       "  0%|          | 0/1000 [00:00<?, ?it/s]"
      ]
     },
     "metadata": {},
     "output_type": "display_data"
    },
    {
     "data": {
      "text/html": [
       "<div>\n",
       "<style scoped>\n",
       "    .dataframe tbody tr th:only-of-type {\n",
       "        vertical-align: middle;\n",
       "    }\n",
       "\n",
       "    .dataframe tbody tr th {\n",
       "        vertical-align: top;\n",
       "    }\n",
       "\n",
       "    .dataframe thead th {\n",
       "        text-align: right;\n",
       "    }\n",
       "</style>\n",
       "<table border=\"1\" class=\"dataframe\">\n",
       "  <thead>\n",
       "    <tr style=\"text-align: right;\">\n",
       "      <th></th>\n",
       "      <th>Space ID</th>\n",
       "      <th>user_data.email_address</th>\n",
       "      <th>event_type = Purchase</th>\n",
       "      <th>event_type = Subcription</th>\n",
       "    </tr>\n",
       "  </thead>\n",
       "  <tbody>\n",
       "    <tr>\n",
       "      <th>0</th>\n",
       "      <td>1</td>\n",
       "      <td>connorpacheco@example.com</td>\n",
       "      <td>5363048227335359991930991729097812249980186344...</td>\n",
       "      <td>1573131030378551987848107314875362971433550823...</td>\n",
       "    </tr>\n",
       "    <tr>\n",
       "      <th>1</th>\n",
       "      <td>1</td>\n",
       "      <td>chadtrevino@example.net</td>\n",
       "      <td>4206990437820926185990749898364895464451326576...</td>\n",
       "      <td>5523008945918533289361081755075661042377221351...</td>\n",
       "    </tr>\n",
       "    <tr>\n",
       "      <th>2</th>\n",
       "      <td>1</td>\n",
       "      <td>rodriguezrobert@example.org</td>\n",
       "      <td>8402804878732992104780206733982823693839739490...</td>\n",
       "      <td>1281448092705189326107604555597015581851183361...</td>\n",
       "    </tr>\n",
       "    <tr>\n",
       "      <th>3</th>\n",
       "      <td>1</td>\n",
       "      <td>tonya48@example.com</td>\n",
       "      <td>7480459632106265127484118432940353041758752970...</td>\n",
       "      <td>2998754809917118059284143070782394982864548517...</td>\n",
       "    </tr>\n",
       "    <tr>\n",
       "      <th>4</th>\n",
       "      <td>1</td>\n",
       "      <td>pfitzgerald@example.org</td>\n",
       "      <td>3582693559275346712695146621770907511683774662...</td>\n",
       "      <td>8636943115633191446842095723626720831251760727...</td>\n",
       "    </tr>\n",
       "    <tr>\n",
       "      <th>...</th>\n",
       "      <td>...</td>\n",
       "      <td>...</td>\n",
       "      <td>...</td>\n",
       "      <td>...</td>\n",
       "    </tr>\n",
       "    <tr>\n",
       "      <th>995</th>\n",
       "      <td>1</td>\n",
       "      <td>rodriguezjonathan@example.net</td>\n",
       "      <td>2495312665984948655876645269510206191172697440...</td>\n",
       "      <td>4905363717269006136301485341402062628758486556...</td>\n",
       "    </tr>\n",
       "    <tr>\n",
       "      <th>996</th>\n",
       "      <td>1</td>\n",
       "      <td>klowery@example.org</td>\n",
       "      <td>6744206323915056845326714895126706320404458261...</td>\n",
       "      <td>4319110757491363040728324836724053524790487199...</td>\n",
       "    </tr>\n",
       "    <tr>\n",
       "      <th>997</th>\n",
       "      <td>1</td>\n",
       "      <td>cunninghamtimothy@example.com</td>\n",
       "      <td>4710595541100311687732621684071147001716795082...</td>\n",
       "      <td>1139961408578422582470422310539980231709850440...</td>\n",
       "    </tr>\n",
       "    <tr>\n",
       "      <th>998</th>\n",
       "      <td>1</td>\n",
       "      <td>twhite@example.org</td>\n",
       "      <td>7348000419769215697311088446348821003389615602...</td>\n",
       "      <td>1113820116428069234172441797390846576812269974...</td>\n",
       "    </tr>\n",
       "    <tr>\n",
       "      <th>999</th>\n",
       "      <td>1</td>\n",
       "      <td>qvaldez@example.com</td>\n",
       "      <td>1195449486477974954140736853370646982107055178...</td>\n",
       "      <td>1521656387964713764143928644874521570446652612...</td>\n",
       "    </tr>\n",
       "  </tbody>\n",
       "</table>\n",
       "<p>1000 rows × 4 columns</p>\n",
       "</div>"
      ],
      "text/plain": [
       "     Space ID        user_data.email_address  \\\n",
       "0           1      connorpacheco@example.com   \n",
       "1           1        chadtrevino@example.net   \n",
       "2           1    rodriguezrobert@example.org   \n",
       "3           1            tonya48@example.com   \n",
       "4           1        pfitzgerald@example.org   \n",
       "..        ...                            ...   \n",
       "995         1  rodriguezjonathan@example.net   \n",
       "996         1            klowery@example.org   \n",
       "997         1  cunninghamtimothy@example.com   \n",
       "998         1             twhite@example.org   \n",
       "999         1            qvaldez@example.com   \n",
       "\n",
       "                                 event_type = Purchase  \\\n",
       "0    5363048227335359991930991729097812249980186344...   \n",
       "1    4206990437820926185990749898364895464451326576...   \n",
       "2    8402804878732992104780206733982823693839739490...   \n",
       "3    7480459632106265127484118432940353041758752970...   \n",
       "4    3582693559275346712695146621770907511683774662...   \n",
       "..                                                 ...   \n",
       "995  2495312665984948655876645269510206191172697440...   \n",
       "996  6744206323915056845326714895126706320404458261...   \n",
       "997  4710595541100311687732621684071147001716795082...   \n",
       "998  7348000419769215697311088446348821003389615602...   \n",
       "999  1195449486477974954140736853370646982107055178...   \n",
       "\n",
       "                              event_type = Subcription  \n",
       "0    1573131030378551987848107314875362971433550823...  \n",
       "1    5523008945918533289361081755075661042377221351...  \n",
       "2    1281448092705189326107604555597015581851183361...  \n",
       "3    2998754809917118059284143070782394982864548517...  \n",
       "4    8636943115633191446842095723626720831251760727...  \n",
       "..                                                 ...  \n",
       "995  4905363717269006136301485341402062628758486556...  \n",
       "996  4319110757491363040728324836724053524790487199...  \n",
       "997  1139961408578422582470422310539980231709850440...  \n",
       "998  1113820116428069234172441797390846576812269974...  \n",
       "999  1521656387964713764143928644874521570446652612...  \n",
       "\n",
       "[1000 rows x 4 columns]"
      ]
     },
     "execution_count": 11,
     "metadata": {},
     "output_type": "execute_result"
    }
   ],
   "source": [
    "import pailliers\n",
    "\n",
    "secret_key = pailliers.secret(128)        # Owned by the recipient (such as the advertiser).\n",
    "public_key = pailliers.public(secret_key) # Shared with all parties (such as the publisher and data clean room).\n",
    "\n",
    "conversions_enc = [\n",
    "    [\n",
    "        spaceid_c,\n",
    "        key_c,\n",
    "        pailliers.encrypt(public_key, 1 if event_type == 'Purchase' else 0),\n",
    "        pailliers.encrypt(public_key, 1 if event_type == 'Subscription' else 0)\n",
    "    ]\n",
    "    for (spaceid_c, key_c, event_type) in tqdm(conversions)\n",
    "]\n",
    "\n",
    "table(conversions_enc, [\"Space ID\", \"user_data.email_address\", \"event_type = Purchase\", \"event_type = Subcription\"])"
   ]
  },
  {
   "cell_type": "markdown",
   "id": "7746a38e-dd12-4629-b6bc-39fbd5f833ee",
   "metadata": {},
   "source": [
    "The workflow below preserves the input-output behavior of the plaintext workflow, but maintains some of the field values in encrypted form by relying on homomorphic encryption. This achieves *input privacy*: if the entity performing the aggregation (such as a data clean room) does not have access to the secret key, it cannot decrypt the information about each individual row."
   ]
  },
  {
   "cell_type": "code",
   "execution_count": 12,
   "id": "de569ef6-2217-40ac-b605-8e7f26572683",
   "metadata": {},
   "outputs": [],
   "source": [
    "join_he = [\n",
    "    [\n",
    "        spaceid_e,\n",
    "        type_e,\n",
    "        campaign_e,\n",
    "        count_p,\n",
    "        count_s\n",
    "    ]\n",
    "    for (spaceid_e, key_e, type_e, campaign_e, region_e, age_e) in events\n",
    "    for (spaceid_c, key_c, count_p, count_s) in conversions_enc\n",
    "    if key_e == key_c\n",
    "]\n",
    "\n",
    "aggregate_he_enc = [\n",
    "    [\n",
    "        campaign,\n",
    "        sum([ # Summation of ciphertexts via Python operator overloading.\n",
    "            count_p\n",
    "            for (_, _, campaign_, count_p, _) in join_he\n",
    "            if campaign == campaign_\n",
    "        ])\n",
    "    ]\n",
    "    for campaign in campaigns # Unique campaigns.\n",
    "]"
   ]
  },
  {
   "cell_type": "markdown",
   "id": "e76847a2-72b1-4a19-a941-a0d1b283dab0",
   "metadata": {},
   "source": [
    "Below is the encrypted version of the aggregate results. The number of purchases for each campaign is still in its ciphertext form. From the perspective of the aggregating entity, *output privacy* is achieved. However, these could be forwarded to another recipient that does possess the secret key (such as the advertiser)."
   ]
  },
  {
   "cell_type": "code",
   "execution_count": 13,
   "id": "3514f8b8-2ed5-4213-94d4-4af8a351d123",
   "metadata": {},
   "outputs": [
    {
     "data": {
      "text/html": [
       "<div>\n",
       "<style scoped>\n",
       "    .dataframe tbody tr th:only-of-type {\n",
       "        vertical-align: middle;\n",
       "    }\n",
       "\n",
       "    .dataframe tbody tr th {\n",
       "        vertical-align: top;\n",
       "    }\n",
       "\n",
       "    .dataframe thead th {\n",
       "        text-align: right;\n",
       "    }\n",
       "</style>\n",
       "<table border=\"1\" class=\"dataframe\">\n",
       "  <thead>\n",
       "    <tr style=\"text-align: right;\">\n",
       "      <th></th>\n",
       "      <th>event_properties.promotion_name</th>\n",
       "      <th>count(Purchase)</th>\n",
       "    </tr>\n",
       "  </thead>\n",
       "  <tbody>\n",
       "    <tr>\n",
       "      <th>0</th>\n",
       "      <td>Red</td>\n",
       "      <td>1243834597883936370984609756933861228779324176...</td>\n",
       "    </tr>\n",
       "    <tr>\n",
       "      <th>1</th>\n",
       "      <td>Orange</td>\n",
       "      <td>6503833653485981177425011843515727564147188279...</td>\n",
       "    </tr>\n",
       "    <tr>\n",
       "      <th>2</th>\n",
       "      <td>Yellow</td>\n",
       "      <td>7962179109087260254794950080864280493452311515...</td>\n",
       "    </tr>\n",
       "    <tr>\n",
       "      <th>3</th>\n",
       "      <td>Green</td>\n",
       "      <td>3946102840485470540359677985797713090752259437...</td>\n",
       "    </tr>\n",
       "    <tr>\n",
       "      <th>4</th>\n",
       "      <td>Blue</td>\n",
       "      <td>7161935654208849032353382260821157777014567138...</td>\n",
       "    </tr>\n",
       "    <tr>\n",
       "      <th>5</th>\n",
       "      <td>Purple</td>\n",
       "      <td>2132770190041943965287328826997032807439790230...</td>\n",
       "    </tr>\n",
       "  </tbody>\n",
       "</table>\n",
       "</div>"
      ],
      "text/plain": [
       "  event_properties.promotion_name  \\\n",
       "0                             Red   \n",
       "1                          Orange   \n",
       "2                          Yellow   \n",
       "3                           Green   \n",
       "4                            Blue   \n",
       "5                          Purple   \n",
       "\n",
       "                                     count(Purchase)  \n",
       "0  1243834597883936370984609756933861228779324176...  \n",
       "1  6503833653485981177425011843515727564147188279...  \n",
       "2  7962179109087260254794950080864280493452311515...  \n",
       "3  3946102840485470540359677985797713090752259437...  \n",
       "4  7161935654208849032353382260821157777014567138...  \n",
       "5  2132770190041943965287328826997032807439790230...  "
      ]
     },
     "execution_count": 13,
     "metadata": {},
     "output_type": "execute_result"
    }
   ],
   "source": [
    "table(aggregate_he_enc, [\"event_properties.promotion_name\", \"count(Purchase)\"])"
   ]
  },
  {
   "cell_type": "markdown",
   "id": "135e6543-88a6-4d8c-b024-13af782268bf",
   "metadata": {},
   "source": [
    "The decrypted results can be viewed by using the secret key. In this case, the outputs are exact and the owner of the secret key is free to deduce any information they can from these counts."
   ]
  },
  {
   "cell_type": "code",
   "execution_count": 14,
   "id": "b273af64-f2f7-4ed4-a9ce-64231f3e99a9",
   "metadata": {},
   "outputs": [
    {
     "data": {
      "text/html": [
       "<div>\n",
       "<style scoped>\n",
       "    .dataframe tbody tr th:only-of-type {\n",
       "        vertical-align: middle;\n",
       "    }\n",
       "\n",
       "    .dataframe tbody tr th {\n",
       "        vertical-align: top;\n",
       "    }\n",
       "\n",
       "    .dataframe thead th {\n",
       "        text-align: right;\n",
       "    }\n",
       "</style>\n",
       "<table border=\"1\" class=\"dataframe\">\n",
       "  <thead>\n",
       "    <tr style=\"text-align: right;\">\n",
       "      <th></th>\n",
       "      <th>event_properties.promotion_name</th>\n",
       "      <th>count(Purchase)</th>\n",
       "    </tr>\n",
       "  </thead>\n",
       "  <tbody>\n",
       "    <tr>\n",
       "      <th>0</th>\n",
       "      <td>Red</td>\n",
       "      <td>38</td>\n",
       "    </tr>\n",
       "    <tr>\n",
       "      <th>1</th>\n",
       "      <td>Orange</td>\n",
       "      <td>45</td>\n",
       "    </tr>\n",
       "    <tr>\n",
       "      <th>2</th>\n",
       "      <td>Yellow</td>\n",
       "      <td>53</td>\n",
       "    </tr>\n",
       "    <tr>\n",
       "      <th>3</th>\n",
       "      <td>Green</td>\n",
       "      <td>30</td>\n",
       "    </tr>\n",
       "    <tr>\n",
       "      <th>4</th>\n",
       "      <td>Blue</td>\n",
       "      <td>47</td>\n",
       "    </tr>\n",
       "    <tr>\n",
       "      <th>5</th>\n",
       "      <td>Purple</td>\n",
       "      <td>38</td>\n",
       "    </tr>\n",
       "  </tbody>\n",
       "</table>\n",
       "</div>"
      ],
      "text/plain": [
       "  event_properties.promotion_name  count(Purchase)\n",
       "0                             Red               38\n",
       "1                          Orange               45\n",
       "2                          Yellow               53\n",
       "3                           Green               30\n",
       "4                            Blue               47\n",
       "5                          Purple               38"
      ]
     },
     "execution_count": 14,
     "metadata": {},
     "output_type": "execute_result"
    }
   ],
   "source": [
    "aggregate_he_dec = [\n",
    "    [\n",
    "        campaign,\n",
    "        pailliers.decrypt(secret_key, count)\n",
    "    ]\n",
    "    for (campaign, count) in aggregate_he_enc\n",
    "]\n",
    "table(aggregate_he_dec, [\"event_properties.promotion_name\", \"count(Purchase)\"])"
   ]
  },
  {
   "cell_type": "markdown",
   "id": "3c102f73-5b65-4d8e-b2c5-5cb9c71da636",
   "metadata": {},
   "source": [
    "In this case, *output privacy* may not be achieved. For example, it is possible that only a single purchase occurred during the campaign (which may allow an advertiser to deduce the identity of the user whose data contributed to the aggregate result)."
   ]
  }
 ],
 "metadata": {
  "kernelspec": {
   "display_name": "Python 3 (ipykernel)",
   "language": "python",
   "name": "python3"
  },
  "language_info": {
   "codemirror_mode": {
    "name": "ipython",
    "version": 3
   },
   "file_extension": ".py",
   "mimetype": "text/x-python",
   "name": "python",
   "nbconvert_exporter": "python",
   "pygments_lexer": "ipython3",
   "version": "3.12.3"
  }
 },
 "nbformat": 4,
 "nbformat_minor": 5
}
